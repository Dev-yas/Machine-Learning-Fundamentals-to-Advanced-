{
 "cells": [
  {
   "cell_type": "code",
   "execution_count": 1,
   "metadata": {},
   "outputs": [
    {
     "name": "stdout",
     "output_type": "stream",
     "text": [
      "Class 0: Sensitivity (Recall) = 1.0000, Specificity = 0.8571\n",
      "Class 1: Sensitivity (Recall) = 0.7500, Specificity = 1.0000\n",
      "Class 2: Sensitivity (Recall) = 0.6667, Specificity = 0.8571\n"
     ]
    }
   ],
   "source": [
    "import numpy as np\n",
    "from sklearn.metrics import confusion_matrix, recall_score\n",
    "\n",
    "# Example true labels and predicted labels\n",
    "y_true = [0, 1, 2, 1, 0, 2, 1, 2, 0, 1]\n",
    "y_pred = [0, 2, 2, 1, 0, 2, 1, 0, 0, 1]\n",
    "\n",
    "# Compute confusion matrix\n",
    "cm = confusion_matrix(y_true, y_pred)\n",
    "\n",
    "# Number of classes\n",
    "num_classes = cm.shape[0]\n",
    "\n",
    "# Initialize lists to store specificity and sensitivity for each class\n",
    "sensitivity_list = []\n",
    "specificity_list = []\n",
    "\n",
    "for i in range(num_classes):\n",
    "    TP = cm[i, i]\n",
    "    FN = np.sum(cm[i, :]) - TP\n",
    "    FP = np.sum(cm[:, i]) - TP\n",
    "    TN = np.sum(cm) - (TP + FP + FN)\n",
    "    \n",
    "    sensitivity = TP / (TP + FN) if (TP + FN) > 0 else 0\n",
    "    specificity = TN / (TN + FP) if (TN + FP) > 0 else 0\n",
    "    \n",
    "    sensitivity_list.append(sensitivity)\n",
    "    specificity_list.append(specificity)\n",
    "\n",
    "# Print results\n",
    "for i in range(num_classes):\n",
    "    print(f\"Class {i}: Sensitivity (Recall) = {sensitivity_list[i]:.4f}, Specificity = {specificity_list[i]:.4f}\")\n"
   ]
  },
  {
   "cell_type": "code",
   "execution_count": 2,
   "metadata": {},
   "outputs": [
    {
     "name": "stdout",
     "output_type": "stream",
     "text": [
      "Sensitivity (Recall): 0.8\n",
      "Specificity: 0.8\n"
     ]
    }
   ],
   "source": [
    "from sklearn.metrics import confusion_matrix, recall_score\n",
    "\n",
    "# Example true labels and predicted labels\n",
    "y_true = [1, 0, 1, 1, 0, 1, 0, 0, 1, 0]\n",
    "y_pred = [1, 0, 1, 0, 0, 1, 1, 0, 1, 0]\n",
    "\n",
    "# Compute confusion matrix\n",
    "tn, fp, fn, tp = confusion_matrix(y_true, y_pred).ravel()\n",
    "\n",
    "# Sensitivity (Recall for positive class)\n",
    "sensitivity = recall_score(y_true, y_pred)  # TP / (TP + FN)\n",
    "\n",
    "# Specificity\n",
    "specificity = tn / (tn + fp)  # TN / (TN + FP)\n",
    "\n",
    "print(f\"Sensitivity (Recall): {sensitivity}\")\n",
    "print(f\"Specificity: {specificity}\")\n"
   ]
  },
  {
   "cell_type": "code",
   "execution_count": 3,
   "metadata": {},
   "outputs": [
    {
     "name": "stdout",
     "output_type": "stream",
     "text": [
      "              precision    recall  f1-score   support\n",
      "\n",
      "           0     0.8000    0.8000    0.8000         5\n",
      "           1     0.8000    0.8000    0.8000         5\n",
      "\n",
      "    accuracy                         0.8000        10\n",
      "   macro avg     0.8000    0.8000    0.8000        10\n",
      "weighted avg     0.8000    0.8000    0.8000        10\n",
      "\n"
     ]
    }
   ],
   "source": [
    "from sklearn.metrics import classification_report\n",
    "\n",
    "print(classification_report(y_true, y_pred, digits=4))\n"
   ]
  },
  {
   "cell_type": "code",
   "execution_count": 4,
   "metadata": {},
   "outputs": [
    {
     "name": "stdout",
     "output_type": "stream",
     "text": [
      "Class 0: Precision = 0.7500, Recall (Sensitivity) = 1.0000\n",
      "Class 1: Precision = 1.0000, Recall (Sensitivity) = 0.7500\n",
      "Class 2: Precision = 0.6667, Recall (Sensitivity) = 0.6667\n"
     ]
    }
   ],
   "source": [
    "from sklearn.metrics import precision_score, recall_score\n",
    "\n",
    "# Example true labels and predicted labels\n",
    "y_true = [0, 1, 2, 1, 0, 2, 1, 2, 0, 1]\n",
    "y_pred = [0, 2, 2, 1, 0, 2, 1, 0, 0, 1]\n",
    "\n",
    "# Compute Precision and Recall for each class\n",
    "precision = precision_score(y_true, y_pred, average=None)\n",
    "recall = recall_score(y_true, y_pred, average=None)  # Sensitivity\n",
    "\n",
    "# Print results\n",
    "for i in range(len(precision)):\n",
    "    print(f\"Class {i}: Precision = {precision[i]:.4f}, Recall (Sensitivity) = {recall[i]:.4f}\")\n"
   ]
  }
 ],
 "metadata": {
  "kernelspec": {
   "display_name": "Python 3",
   "language": "python",
   "name": "python3"
  },
  "language_info": {
   "codemirror_mode": {
    "name": "ipython",
    "version": 3
   },
   "file_extension": ".py",
   "mimetype": "text/x-python",
   "name": "python",
   "nbconvert_exporter": "python",
   "pygments_lexer": "ipython3",
   "version": "3.12.4"
  }
 },
 "nbformat": 4,
 "nbformat_minor": 2
}
